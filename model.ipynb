{
 "cells": [
  {
   "cell_type": "code",
   "execution_count": 1,
   "id": "9cefdaaa",
   "metadata": {},
   "outputs": [],
   "source": [
    "import pandas as pd\n",
    "from sklearn.feature_extraction.text import TfidfVectorizer\n",
    "import joblib\n",
    "import os"
   ]
  },
  {
   "cell_type": "code",
   "execution_count": 2,
   "id": "f683a8b2",
   "metadata": {},
   "outputs": [],
   "source": [
    "class RecipeRecommenderModelBuilder:\n",
    "    def __init__(self, file_path):\n",
    "        if not os.path.exists(file_path):\n",
    "            raise FileNotFoundError(f\"The file {file_path} does not exist.\")\n",
    "        self.df = pd.read_csv(file_path)\n",
    "\n",
    "    def prepare_data(self):\n",
    "        # Clean and process ingredients\n",
    "        self.df = self.df.dropna(subset=[self.df.columns[10]])\n",
    "        self.df = self.df.drop_duplicates(subset='ingredients')\n",
    "        self.df = self.df[self.df['ingredients'].str.count(',') >= 2]\n",
    "        self.df['ingredient_list'] = self.df.iloc[:, 10].apply(\n",
    "            lambda x: ' '.join(eval(x) if isinstance(x, str) else x)\n",
    "        )\n",
    "\n",
    "    def create_vectorizer_and_vectors(self):\n",
    "        self.vectorizer = TfidfVectorizer()\n",
    "        self.ingredient_vectors = self.vectorizer.fit_transform(self.df['ingredient_list'])\n",
    "\n",
    "    def save_model(self):\n",
    "        self.df.to_csv('processed_recipes.csv', index=False)\n",
    "        joblib.dump(self.vectorizer, 'tfidf_vectorizer.joblib')\n",
    "        joblib.dump(self.ingredient_vectors, 'ingredient_vectors.joblib')"
   ]
  },
  {
   "cell_type": "code",
   "execution_count": 3,
   "id": "453d937b",
   "metadata": {},
   "outputs": [],
   "source": [
    "file_path = 'RAW_recipes.csv'\n",
    "builder = RecipeRecommenderModelBuilder(file_path)\n",
    "builder.prepare_data()\n",
    "builder.create_vectorizer_and_vectors()\n",
    "builder.save_model()"
   ]
  }
 ],
 "metadata": {
  "kernelspec": {
   "display_name": "Python 3",
   "language": "python",
   "name": "python3"
  },
  "language_info": {
   "codemirror_mode": {
    "name": "ipython",
    "version": 3
   },
   "file_extension": ".py",
   "mimetype": "text/x-python",
   "name": "python",
   "nbconvert_exporter": "python",
   "pygments_lexer": "ipython3",
   "version": "3.10.0"
  }
 },
 "nbformat": 4,
 "nbformat_minor": 5
}
